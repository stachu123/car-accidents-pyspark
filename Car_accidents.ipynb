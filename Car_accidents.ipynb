{
 "cells": [
  {
   "cell_type": "markdown",
   "id": "91b42d92-10fb-4891-b047-55707c3548c4",
   "metadata": {},
   "source": [
    "Questions to the dataset:\n",
    "1. Data cleaning and preprocessing\n",
    "1. What's the distribution of Serious , slight and all accidents in relation to the day of the Week.\n",
    "2. Motorcycle accidents\n",
    "3. Number of accidents grouped by the time of the day\n",
    "4. weather condictions in relation to fatal accidents\n",
    "6. Try to show the accidents on the map "
   ]
  },
  {
   "cell_type": "code",
   "execution_count": 45,
   "id": "d0ba9372-85e8-4c88-948d-ddcc608184e1",
   "metadata": {},
   "outputs": [],
   "source": [
    "import pyspark\n",
    "from pyspark import SparkContext\n",
    "from pyspark.sql import SparkSession, Window, Row\n",
    "from pyspark.sql.functions import *\n",
    "from pyspark.sql.types import *\n",
    "import matplotlib.pyplot as plt\n",
    "import pandas as pd"
   ]
  },
  {
   "cell_type": "code",
   "execution_count": 46,
   "id": "deadf996-5618-450e-bcba-b19b402c0078",
   "metadata": {},
   "outputs": [],
   "source": [
    "spark = SparkSession \\\n",
    "    .builder \\\n",
    "    .appName(\"Bundesliga\") \\\n",
    "    .getOrCreate()"
   ]
  },
  {
   "cell_type": "code",
   "execution_count": 67,
   "id": "8fc01d5a-b6a8-4172-b301-9a60105de00a",
   "metadata": {},
   "outputs": [
    {
     "data": {
      "text/html": [
       "<div>\n",
       "<style scoped>\n",
       "    .dataframe tbody tr th:only-of-type {\n",
       "        vertical-align: middle;\n",
       "    }\n",
       "\n",
       "    .dataframe tbody tr th {\n",
       "        vertical-align: top;\n",
       "    }\n",
       "\n",
       "    .dataframe thead th {\n",
       "        text-align: right;\n",
       "    }\n",
       "</style>\n",
       "<table border=\"1\" class=\"dataframe\">\n",
       "  <thead>\n",
       "    <tr style=\"text-align: right;\">\n",
       "      <th></th>\n",
       "      <th>Accident_Index</th>\n",
       "      <th>1st_Road_Class</th>\n",
       "      <th>1st_Road_Number</th>\n",
       "      <th>2nd_Road_Class</th>\n",
       "      <th>2nd_Road_Number</th>\n",
       "      <th>Accident_Severity</th>\n",
       "      <th>Carriageway_Hazards</th>\n",
       "      <th>Date</th>\n",
       "      <th>Day_of_Week</th>\n",
       "      <th>Did_Police_Officer_Attend_Scene_of_Accident</th>\n",
       "      <th>...</th>\n",
       "      <th>Police_Force</th>\n",
       "      <th>Road_Surface_Conditions</th>\n",
       "      <th>Road_Type</th>\n",
       "      <th>Special_Conditions_at_Site</th>\n",
       "      <th>Speed_limit</th>\n",
       "      <th>Time</th>\n",
       "      <th>Urban_or_Rural_Area</th>\n",
       "      <th>Weather_Conditions</th>\n",
       "      <th>Year</th>\n",
       "      <th>InScotland</th>\n",
       "    </tr>\n",
       "  </thead>\n",
       "  <tbody>\n",
       "    <tr>\n",
       "      <th>0</th>\n",
       "      <td>200501BS00001</td>\n",
       "      <td>A</td>\n",
       "      <td>3218</td>\n",
       "      <td>NA</td>\n",
       "      <td>0</td>\n",
       "      <td>Serious</td>\n",
       "      <td>None</td>\n",
       "      <td>2005-01-04</td>\n",
       "      <td>Tuesday</td>\n",
       "      <td>1</td>\n",
       "      <td>...</td>\n",
       "      <td>Metropolitan Police</td>\n",
       "      <td>Wet or damp</td>\n",
       "      <td>Single carriageway</td>\n",
       "      <td>None</td>\n",
       "      <td>30</td>\n",
       "      <td>17:42</td>\n",
       "      <td>Urban</td>\n",
       "      <td>Raining no high winds</td>\n",
       "      <td>2005</td>\n",
       "      <td>No</td>\n",
       "    </tr>\n",
       "    <tr>\n",
       "      <th>1</th>\n",
       "      <td>200501BS00002</td>\n",
       "      <td>B</td>\n",
       "      <td>450</td>\n",
       "      <td>C</td>\n",
       "      <td>0</td>\n",
       "      <td>Slight</td>\n",
       "      <td>None</td>\n",
       "      <td>2005-01-05</td>\n",
       "      <td>Wednesday</td>\n",
       "      <td>1</td>\n",
       "      <td>...</td>\n",
       "      <td>Metropolitan Police</td>\n",
       "      <td>Dry</td>\n",
       "      <td>Dual carriageway</td>\n",
       "      <td>None</td>\n",
       "      <td>30</td>\n",
       "      <td>17:36</td>\n",
       "      <td>Urban</td>\n",
       "      <td>Fine no high winds</td>\n",
       "      <td>2005</td>\n",
       "      <td>No</td>\n",
       "    </tr>\n",
       "    <tr>\n",
       "      <th>2</th>\n",
       "      <td>200501BS00003</td>\n",
       "      <td>C</td>\n",
       "      <td>0</td>\n",
       "      <td>NA</td>\n",
       "      <td>0</td>\n",
       "      <td>Slight</td>\n",
       "      <td>None</td>\n",
       "      <td>2005-01-06</td>\n",
       "      <td>Thursday</td>\n",
       "      <td>1</td>\n",
       "      <td>...</td>\n",
       "      <td>Metropolitan Police</td>\n",
       "      <td>Dry</td>\n",
       "      <td>Single carriageway</td>\n",
       "      <td>None</td>\n",
       "      <td>30</td>\n",
       "      <td>00:15</td>\n",
       "      <td>Urban</td>\n",
       "      <td>Fine no high winds</td>\n",
       "      <td>2005</td>\n",
       "      <td>No</td>\n",
       "    </tr>\n",
       "    <tr>\n",
       "      <th>3</th>\n",
       "      <td>200501BS00004</td>\n",
       "      <td>A</td>\n",
       "      <td>3220</td>\n",
       "      <td>NA</td>\n",
       "      <td>0</td>\n",
       "      <td>Slight</td>\n",
       "      <td>None</td>\n",
       "      <td>2005-01-07</td>\n",
       "      <td>Friday</td>\n",
       "      <td>1</td>\n",
       "      <td>...</td>\n",
       "      <td>Metropolitan Police</td>\n",
       "      <td>Dry</td>\n",
       "      <td>Single carriageway</td>\n",
       "      <td>None</td>\n",
       "      <td>30</td>\n",
       "      <td>10:35</td>\n",
       "      <td>Urban</td>\n",
       "      <td>Fine no high winds</td>\n",
       "      <td>2005</td>\n",
       "      <td>No</td>\n",
       "    </tr>\n",
       "    <tr>\n",
       "      <th>4</th>\n",
       "      <td>200501BS00005</td>\n",
       "      <td>Unclassified</td>\n",
       "      <td>0</td>\n",
       "      <td>NA</td>\n",
       "      <td>0</td>\n",
       "      <td>Slight</td>\n",
       "      <td>None</td>\n",
       "      <td>2005-01-10</td>\n",
       "      <td>Monday</td>\n",
       "      <td>1</td>\n",
       "      <td>...</td>\n",
       "      <td>Metropolitan Police</td>\n",
       "      <td>Wet or damp</td>\n",
       "      <td>Single carriageway</td>\n",
       "      <td>None</td>\n",
       "      <td>30</td>\n",
       "      <td>21:13</td>\n",
       "      <td>Urban</td>\n",
       "      <td>Fine no high winds</td>\n",
       "      <td>2005</td>\n",
       "      <td>No</td>\n",
       "    </tr>\n",
       "  </tbody>\n",
       "</table>\n",
       "<p>5 rows × 34 columns</p>\n",
       "</div>"
      ],
      "text/plain": [
       "  Accident_Index 1st_Road_Class 1st_Road_Number 2nd_Road_Class  \\\n",
       "0  200501BS00001              A            3218             NA   \n",
       "1  200501BS00002              B             450              C   \n",
       "2  200501BS00003              C               0             NA   \n",
       "3  200501BS00004              A            3220             NA   \n",
       "4  200501BS00005   Unclassified               0             NA   \n",
       "\n",
       "  2nd_Road_Number Accident_Severity Carriageway_Hazards        Date  \\\n",
       "0               0           Serious                None  2005-01-04   \n",
       "1               0            Slight                None  2005-01-05   \n",
       "2               0            Slight                None  2005-01-06   \n",
       "3               0            Slight                None  2005-01-07   \n",
       "4               0            Slight                None  2005-01-10   \n",
       "\n",
       "  Day_of_Week Did_Police_Officer_Attend_Scene_of_Accident  ...  \\\n",
       "0     Tuesday                                           1  ...   \n",
       "1   Wednesday                                           1  ...   \n",
       "2    Thursday                                           1  ...   \n",
       "3      Friday                                           1  ...   \n",
       "4      Monday                                           1  ...   \n",
       "\n",
       "          Police_Force Road_Surface_Conditions           Road_Type  \\\n",
       "0  Metropolitan Police             Wet or damp  Single carriageway   \n",
       "1  Metropolitan Police                     Dry    Dual carriageway   \n",
       "2  Metropolitan Police                     Dry  Single carriageway   \n",
       "3  Metropolitan Police                     Dry  Single carriageway   \n",
       "4  Metropolitan Police             Wet or damp  Single carriageway   \n",
       "\n",
       "  Special_Conditions_at_Site Speed_limit   Time Urban_or_Rural_Area  \\\n",
       "0                       None          30  17:42               Urban   \n",
       "1                       None          30  17:36               Urban   \n",
       "2                       None          30  00:15               Urban   \n",
       "3                       None          30  10:35               Urban   \n",
       "4                       None          30  21:13               Urban   \n",
       "\n",
       "      Weather_Conditions  Year InScotland  \n",
       "0  Raining no high winds  2005         No  \n",
       "1     Fine no high winds  2005         No  \n",
       "2     Fine no high winds  2005         No  \n",
       "3     Fine no high winds  2005         No  \n",
       "4     Fine no high winds  2005         No  \n",
       "\n",
       "[5 rows x 34 columns]"
      ]
     },
     "execution_count": 67,
     "metadata": {},
     "output_type": "execute_result"
    }
   ],
   "source": [
    "def load_dataframe(filename):\n",
    "    df=spark.read.format('csv').options(header='true').load(filename)\n",
    "    return df\n",
    "\n",
    "df = load_dataframe('../data/car_accidents/Accident_information.csv')\n",
    "df.limit(5).toPandas()"
   ]
  },
  {
   "cell_type": "code",
   "execution_count": 66,
   "id": "5c660777-9c17-4cb5-a60f-738ae5cc333b",
   "metadata": {},
   "outputs": [
    {
     "data": {
      "text/plain": [
       "['Accident_Index',\n",
       " '1st_Road_Class',\n",
       " '1st_Road_Number',\n",
       " '2nd_Road_Class',\n",
       " '2nd_Road_Number',\n",
       " 'Accident_Severity',\n",
       " 'Carriageway_Hazards',\n",
       " 'Date',\n",
       " 'Day_of_Week',\n",
       " 'Did_Police_Officer_Attend_Scene_of_Accident',\n",
       " 'Junction_Control',\n",
       " 'Junction_Detail',\n",
       " 'Latitude',\n",
       " 'Light_Conditions',\n",
       " 'Local_Authority_(District)',\n",
       " 'Local_Authority_(Highway)',\n",
       " 'Location_Easting_OSGR',\n",
       " 'Location_Northing_OSGR',\n",
       " 'Longitude',\n",
       " 'LSOA_of_Accident_Location',\n",
       " 'Number_of_Casualties',\n",
       " 'Number_of_Vehicles',\n",
       " 'Pedestrian_Crossing-Human_Control',\n",
       " 'Pedestrian_Crossing-Physical_Facilities',\n",
       " 'Police_Force',\n",
       " 'Road_Surface_Conditions',\n",
       " 'Road_Type',\n",
       " 'Special_Conditions_at_Site',\n",
       " 'Speed_limit',\n",
       " 'Time',\n",
       " 'Urban_or_Rural_Area',\n",
       " 'Weather_Conditions',\n",
       " 'Year',\n",
       " 'InScotland']"
      ]
     },
     "execution_count": 66,
     "metadata": {},
     "output_type": "execute_result"
    }
   ],
   "source": [
    "df.columns"
   ]
  },
  {
   "cell_type": "code",
   "execution_count": 48,
   "id": "6a87ff92-7fcf-47bc-a8b4-2370181e7195",
   "metadata": {},
   "outputs": [],
   "source": [
    "#choosing only the necessery columns (for now)\n",
    "columns = ['Accident_Index','Accident_Severity','Date','Day_of_Week','Latitude','Longitude','Number_of_Casualties','Number_of_Vehicles','Time',\n",
    "           'Weather_Conditions','Year',]\n",
    "df_accidents = df.select(*columns)\n"
   ]
  },
  {
   "cell_type": "code",
   "execution_count": 65,
   "id": "cfdd6bdc-f597-4fab-af41-3eea55efb48d",
   "metadata": {},
   "outputs": [
    {
     "data": {
      "text/html": [
       "<div>\n",
       "<style scoped>\n",
       "    .dataframe tbody tr th:only-of-type {\n",
       "        vertical-align: middle;\n",
       "    }\n",
       "\n",
       "    .dataframe tbody tr th {\n",
       "        vertical-align: top;\n",
       "    }\n",
       "\n",
       "    .dataframe thead th {\n",
       "        text-align: right;\n",
       "    }\n",
       "</style>\n",
       "<table border=\"1\" class=\"dataframe\">\n",
       "  <thead>\n",
       "    <tr style=\"text-align: right;\">\n",
       "      <th></th>\n",
       "      <th>Accident_Index</th>\n",
       "      <th>Accident_Severity</th>\n",
       "      <th>Date</th>\n",
       "      <th>Day_of_Week</th>\n",
       "      <th>Latitude</th>\n",
       "      <th>Longitude</th>\n",
       "      <th>Number_of_Casualties</th>\n",
       "      <th>Number_of_Vehicles</th>\n",
       "      <th>Time</th>\n",
       "      <th>Weather_Conditions</th>\n",
       "      <th>Year</th>\n",
       "    </tr>\n",
       "  </thead>\n",
       "  <tbody>\n",
       "    <tr>\n",
       "      <th>0</th>\n",
       "      <td>200501BS00001</td>\n",
       "      <td>Serious</td>\n",
       "      <td>2005-01-04</td>\n",
       "      <td>Tuesday</td>\n",
       "      <td>51.489096</td>\n",
       "      <td>-0.19117</td>\n",
       "      <td>1</td>\n",
       "      <td>1</td>\n",
       "      <td>17:42</td>\n",
       "      <td>Raining no high winds</td>\n",
       "      <td>2005</td>\n",
       "    </tr>\n",
       "    <tr>\n",
       "      <th>1</th>\n",
       "      <td>200501BS00002</td>\n",
       "      <td>Slight</td>\n",
       "      <td>2005-01-05</td>\n",
       "      <td>Wednesday</td>\n",
       "      <td>51.520075</td>\n",
       "      <td>-0.211708</td>\n",
       "      <td>1</td>\n",
       "      <td>1</td>\n",
       "      <td>17:36</td>\n",
       "      <td>Fine no high winds</td>\n",
       "      <td>2005</td>\n",
       "    </tr>\n",
       "    <tr>\n",
       "      <th>2</th>\n",
       "      <td>200501BS00003</td>\n",
       "      <td>Slight</td>\n",
       "      <td>2005-01-06</td>\n",
       "      <td>Thursday</td>\n",
       "      <td>51.525301</td>\n",
       "      <td>-0.206458</td>\n",
       "      <td>1</td>\n",
       "      <td>2</td>\n",
       "      <td>00:15</td>\n",
       "      <td>Fine no high winds</td>\n",
       "      <td>2005</td>\n",
       "    </tr>\n",
       "    <tr>\n",
       "      <th>3</th>\n",
       "      <td>200501BS00004</td>\n",
       "      <td>Slight</td>\n",
       "      <td>2005-01-07</td>\n",
       "      <td>Friday</td>\n",
       "      <td>51.482442</td>\n",
       "      <td>-0.173862</td>\n",
       "      <td>1</td>\n",
       "      <td>1</td>\n",
       "      <td>10:35</td>\n",
       "      <td>Fine no high winds</td>\n",
       "      <td>2005</td>\n",
       "    </tr>\n",
       "    <tr>\n",
       "      <th>4</th>\n",
       "      <td>200501BS00005</td>\n",
       "      <td>Slight</td>\n",
       "      <td>2005-01-10</td>\n",
       "      <td>Monday</td>\n",
       "      <td>51.495752</td>\n",
       "      <td>-0.156618</td>\n",
       "      <td>1</td>\n",
       "      <td>1</td>\n",
       "      <td>21:13</td>\n",
       "      <td>Fine no high winds</td>\n",
       "      <td>2005</td>\n",
       "    </tr>\n",
       "  </tbody>\n",
       "</table>\n",
       "</div>"
      ],
      "text/plain": [
       "  Accident_Index Accident_Severity        Date Day_of_Week   Latitude  \\\n",
       "0  200501BS00001           Serious  2005-01-04     Tuesday  51.489096   \n",
       "1  200501BS00002            Slight  2005-01-05   Wednesday  51.520075   \n",
       "2  200501BS00003            Slight  2005-01-06    Thursday  51.525301   \n",
       "3  200501BS00004            Slight  2005-01-07      Friday  51.482442   \n",
       "4  200501BS00005            Slight  2005-01-10      Monday  51.495752   \n",
       "\n",
       "   Longitude Number_of_Casualties Number_of_Vehicles   Time  \\\n",
       "0   -0.19117                    1                  1  17:42   \n",
       "1  -0.211708                    1                  1  17:36   \n",
       "2  -0.206458                    1                  2  00:15   \n",
       "3  -0.173862                    1                  1  10:35   \n",
       "4  -0.156618                    1                  1  21:13   \n",
       "\n",
       "      Weather_Conditions  Year  \n",
       "0  Raining no high winds  2005  \n",
       "1     Fine no high winds  2005  \n",
       "2     Fine no high winds  2005  \n",
       "3     Fine no high winds  2005  \n",
       "4     Fine no high winds  2005  "
      ]
     },
     "execution_count": 65,
     "metadata": {},
     "output_type": "execute_result"
    }
   ],
   "source": [
    "df_accidents.limit(5).toPandas()"
   ]
  },
  {
   "cell_type": "markdown",
   "id": "11d4e596-ab83-471a-87a5-5889b5d8062d",
   "metadata": {},
   "source": [
    "### What's the distribution of Serious, Slight and all accidents in relation to the day of the Week."
   ]
  },
  {
   "cell_type": "markdown",
   "id": "f294276b-fda5-4c11-9b08-fc65a5b95fde",
   "metadata": {},
   "source": []
  },
  {
   "cell_type": "code",
   "execution_count": 49,
   "id": "7de91a68-0c57-4aee-a5e1-cee6dc81936c",
   "metadata": {},
   "outputs": [
    {
     "data": {
      "text/plain": [
       "[Row(Accident_Severity='Slight'),\n",
       " Row(Accident_Severity='Fatal'),\n",
       " Row(Accident_Severity='Serious')]"
      ]
     },
     "execution_count": 49,
     "metadata": {},
     "output_type": "execute_result"
    }
   ],
   "source": [
    "#checking the distinct values of the Accident Severity column\n",
    "df_accidents.select('Accident_Severity').distinct().collect()"
   ]
  },
  {
   "cell_type": "code",
   "execution_count": 50,
   "id": "36995ba2-d3e3-43cf-8d8e-202d9d26bb45",
   "metadata": {},
   "outputs": [
    {
     "data": {
      "text/plain": [
       "0"
      ]
     },
     "execution_count": 50,
     "metadata": {},
     "output_type": "execute_result"
    }
   ],
   "source": [
    "#checking Null values\n",
    "null_count = df_accidents.filter(col('Accident_Severity').isNull()).count()\n",
    "null_count"
   ]
  },
  {
   "cell_type": "code",
   "execution_count": 51,
   "id": "0b6695ca-de08-46ec-bb44-9d892361a660",
   "metadata": {},
   "outputs": [],
   "source": [
    "accidents = df_accidents \\\n",
    "    .withColumn('Slight', when(col('Accident_Severity') == 'Slight', 1).otherwise(0)) \\\n",
    "    .withColumn('Fatal', when(col('Accident_Severity') == 'Fatal', 1).otherwise(0)) \\\n",
    "    .withColumn('Serious', when(col('Accident_Severity') == 'Serious', 1).otherwise(0)) \\\n",
    "\n"
   ]
  },
  {
   "cell_type": "code",
   "execution_count": 52,
   "id": "08f67230-3ea7-4b21-bba7-5fee81c1e438",
   "metadata": {},
   "outputs": [
    {
     "data": {
      "text/plain": [
       "['Accident_Index',\n",
       " 'Accident_Severity',\n",
       " 'Date',\n",
       " 'Day_of_Week',\n",
       " 'Latitude',\n",
       " 'Longitude',\n",
       " 'Number_of_Casualties',\n",
       " 'Number_of_Vehicles',\n",
       " 'Time',\n",
       " 'Weather_Conditions',\n",
       " 'Year',\n",
       " 'Slight',\n",
       " 'Fatal',\n",
       " 'Serious']"
      ]
     },
     "execution_count": 52,
     "metadata": {},
     "output_type": "execute_result"
    }
   ],
   "source": [
    "accidents.columns"
   ]
  },
  {
   "cell_type": "code",
   "execution_count": 53,
   "id": "fc946731-04aa-4747-9ba3-2b973d192e81",
   "metadata": {},
   "outputs": [],
   "source": [
    "all = accidents.groupby('Day_of_Week') \\\n",
    "    .agg(count('Accident_Severity').alias('Count of accidents (All Types)'), \\\n",
    "         sum('Slight').alias('Count of slight accidents'), \\\n",
    "         sum('Serious').alias('Count of Serious accidents'), \\\n",
    "         sum('Fatal').alias('Count of Fatal accidents'))"
   ]
  },
  {
   "cell_type": "code",
   "execution_count": 54,
   "id": "e053d1d0-95cd-4241-bf77-a468b5916b84",
   "metadata": {},
   "outputs": [
    {
     "name": "stdout",
     "output_type": "stream",
     "text": [
      "+-----------+------------------------------+-------------------------+--------------------------+------------------------+\n",
      "|Day_of_Week|Count of accidents (All Types)|Count of slight accidents|Count of Serious accidents|Count of Fatal accidents|\n",
      "+-----------+------------------------------+-------------------------+--------------------------+------------------------+\n",
      "|  Wednesday|                        308580|                   264532|                     40683|                    3365|\n",
      "|    Tuesday|                        306292|                   262430|                     40503|                    3359|\n",
      "|     Friday|                        335183|                   285272|                     45877|                    4034|\n",
      "|   Thursday|                        308240|                   263357|                     41376|                    3507|\n",
      "|   Saturday|                        273152|                   226648|                     41986|                    4518|\n",
      "|     Monday|                        290482|                   248516|                     38588|                    3378|\n",
      "|     Sunday|                        225327|                   183793|                     37326|                    4208|\n",
      "+-----------+------------------------------+-------------------------+--------------------------+------------------------+\n",
      "\n"
     ]
    }
   ],
   "source": [
    "all.show()"
   ]
  },
  {
   "cell_type": "code",
   "execution_count": 55,
   "id": "9a545d8b-a872-47c3-8b0a-53f8fc52dd31",
   "metadata": {},
   "outputs": [
    {
     "data": {
      "text/plain": [
       "([<matplotlib.patches.Wedge at 0x248542cd110>,\n",
       "  <matplotlib.patches.Wedge at 0x24854310dd0>,\n",
       "  <matplotlib.patches.Wedge at 0x24854312490>],\n",
       " [Text(-0.975764296032043, 0.5078228417362612, 'Slight'),\n",
       "  Text(0.9544224957506608, -0.5468799681877917, 'Serious'),\n",
       "  Text(1.099099575258999, -0.04449858048846316, 'Fatal')],\n",
       " [Text(-0.5322350705629324, 0.27699427731068793, '84.7%'),\n",
       "  Text(0.5205940885912694, -0.29829816446606816, '14.0%'),\n",
       "  Text(0.5995088592321812, -0.024271952993707175, '1.3%')])"
      ]
     },
     "execution_count": 55,
     "metadata": {},
     "output_type": "execute_result"
    },
    {
     "data": {
      "image/png": "[encoded data removed]",
      "text/plain": [
       "<Figure size 640x480 with 1 Axes>"
      ]
     },
     "metadata": {},
     "output_type": "display_data"
    }
   ],
   "source": [
    "#plotting the the general distribution of accident severity\n",
    "slight_sum = all.agg(sum('Count of slight accidents')).collect()[0][0]\n",
    "serious_sum = all.agg(sum('Count of Serious accidents')).collect()[0][0]\n",
    "fatal_sum = all.agg(sum('Count of Fatal accidents')).collect()[0][0]\n",
    "sizes = [slight_sum, serious_sum, fatal_sum]\n",
    "labels = ['Slight', 'Serious', 'Fatal']\n",
    "\n",
    "fig, ax = plt.subplots()\n",
    "plt.title(\"Distribution of accident severity\")\n",
    "ax.pie(sizes, labels=labels, autopct='%1.1f%%')"
   ]
  },
  {
   "cell_type": "code",
   "execution_count": 56,
   "id": "a8918b69-4126-4acf-9ab9-0e1fc3d5d17b",
   "metadata": {},
   "outputs": [
    {
     "data": {
      "text/html": [
       "<div>\n",
       "<style scoped>\n",
       "    .dataframe tbody tr th:only-of-type {\n",
       "        vertical-align: middle;\n",
       "    }\n",
       "\n",
       "    .dataframe tbody tr th {\n",
       "        vertical-align: top;\n",
       "    }\n",
       "\n",
       "    .dataframe thead th {\n",
       "        text-align: right;\n",
       "    }\n",
       "</style>\n",
       "<table border=\"1\" class=\"dataframe\">\n",
       "  <thead>\n",
       "    <tr style=\"text-align: right;\">\n",
       "      <th></th>\n",
       "      <th>Day_of_Week</th>\n",
       "      <th>Count of accidents (All Types)</th>\n",
       "      <th>Count of slight accidents</th>\n",
       "      <th>Count of Serious accidents</th>\n",
       "      <th>Count of Fatal accidents</th>\n",
       "      <th>Day_of_Week_Num</th>\n",
       "    </tr>\n",
       "  </thead>\n",
       "  <tbody>\n",
       "    <tr>\n",
       "      <th>5</th>\n",
       "      <td>Monday</td>\n",
       "      <td>290482</td>\n",
       "      <td>248516</td>\n",
       "      <td>38588</td>\n",
       "      <td>3378</td>\n",
       "      <td>0</td>\n",
       "    </tr>\n",
       "    <tr>\n",
       "      <th>1</th>\n",
       "      <td>Tuesday</td>\n",
       "      <td>306292</td>\n",
       "      <td>262430</td>\n",
       "      <td>40503</td>\n",
       "      <td>3359</td>\n",
       "      <td>1</td>\n",
       "    </tr>\n",
       "    <tr>\n",
       "      <th>0</th>\n",
       "      <td>Wednesday</td>\n",
       "      <td>308580</td>\n",
       "      <td>264532</td>\n",
       "      <td>40683</td>\n",
       "      <td>3365</td>\n",
       "      <td>2</td>\n",
       "    </tr>\n",
       "    <tr>\n",
       "      <th>3</th>\n",
       "      <td>Thursday</td>\n",
       "      <td>308240</td>\n",
       "      <td>263357</td>\n",
       "      <td>41376</td>\n",
       "      <td>3507</td>\n",
       "      <td>3</td>\n",
       "    </tr>\n",
       "    <tr>\n",
       "      <th>2</th>\n",
       "      <td>Friday</td>\n",
       "      <td>335183</td>\n",
       "      <td>285272</td>\n",
       "      <td>45877</td>\n",
       "      <td>4034</td>\n",
       "      <td>4</td>\n",
       "    </tr>\n",
       "    <tr>\n",
       "      <th>4</th>\n",
       "      <td>Saturday</td>\n",
       "      <td>273152</td>\n",
       "      <td>226648</td>\n",
       "      <td>41986</td>\n",
       "      <td>4518</td>\n",
       "      <td>5</td>\n",
       "    </tr>\n",
       "    <tr>\n",
       "      <th>6</th>\n",
       "      <td>Sunday</td>\n",
       "      <td>225327</td>\n",
       "      <td>183793</td>\n",
       "      <td>37326</td>\n",
       "      <td>4208</td>\n",
       "      <td>6</td>\n",
       "    </tr>\n",
       "  </tbody>\n",
       "</table>\n",
       "</div>"
      ],
      "text/plain": [
       "  Day_of_Week  Count of accidents (All Types)  Count of slight accidents  \\\n",
       "5      Monday                          290482                     248516   \n",
       "1     Tuesday                          306292                     262430   \n",
       "0   Wednesday                          308580                     264532   \n",
       "3    Thursday                          308240                     263357   \n",
       "2      Friday                          335183                     285272   \n",
       "4    Saturday                          273152                     226648   \n",
       "6      Sunday                          225327                     183793   \n",
       "\n",
       "   Count of Serious accidents  Count of Fatal accidents  Day_of_Week_Num  \n",
       "5                       38588                      3378                0  \n",
       "1                       40503                      3359                1  \n",
       "0                       40683                      3365                2  \n",
       "3                       41376                      3507                3  \n",
       "2                       45877                      4034                4  \n",
       "4                       41986                      4518                5  \n",
       "6                       37326                      4208                6  "
      ]
     },
     "execution_count": 56,
     "metadata": {},
     "output_type": "execute_result"
    }
   ],
   "source": [
    "all_df = all.toPandas()\n",
    "\n",
    "weekday_mapping = {\n",
    "    'Monday': 0,\n",
    "    'Tuesday': 1,\n",
    "    'Wednesday': 2,\n",
    "    'Thursday': 3,\n",
    "    'Friday': 4,\n",
    "    'Saturday': 5,\n",
    "    'Sunday': 6\n",
    "}\n",
    "\n",
    "all_df['Day_of_Week_Num'] = all_df['Day_of_Week'].map(weekday_mapping)\n",
    "df_sorted = all_df.sort_values(by='Day_of_Week_Num')\n",
    "df_sorted"
   ]
  },
  {
   "cell_type": "code",
   "execution_count": 57,
   "id": "d129cada-6c33-466c-b29d-07690a7cedac",
   "metadata": {},
   "outputs": [
    {
     "data": {
      "image/png": "[encoded data removed]",
      "text/plain": [
       "<Figure size 640x480 with 1 Axes>"
      ]
     },
     "metadata": {},
     "output_type": "display_data"
    },
    {
     "data": {
      "text/plain": [
       "<Figure size 1500x600 with 0 Axes>"
      ]
     },
     "metadata": {},
     "output_type": "display_data"
    }
   ],
   "source": [
    "import numpy as np\n",
    "import matplotlib.pyplot as plt\n",
    "\n",
    "# Sample data\n",
    "r = np.arange(7)\n",
    "width = 0.2\n",
    "\n",
    "# Adjusting x-coordinates for the bars\n",
    "x1 = r - width\n",
    "x2 = r\n",
    "x3 = r + width\n",
    "x4 = r + 2*width\n",
    "\n",
    "# Plotting the bars\n",
    "plt.bar(x1, all_df['Count of accidents (All Types)'], color='b', width=width, edgecolor='black', label='All Types')\n",
    "plt.bar(x2, all_df['Count of slight accidents'], color='g', width=width, edgecolor='black', label='Slight Accidents')\n",
    "plt.bar(x3, all_df['Count of Serious accidents'], color='r', width=width, edgecolor='black', label='Serious Accidents')\n",
    "plt.bar(x4, all_df['Count of Fatal accidents'], color='black', width=width, edgecolor='black', label='Fatal Accidents')\n",
    "\n",
    "# Adding labels and title\n",
    "plt.xlabel(\"Day of Week\") \n",
    "plt.ylabel(\"Number of Accidents\") \n",
    "plt.title(\"Number of Accidents per Weekday (All types)\") \n",
    "\n",
    "days_of_week = ['Monday', 'Tuesday', 'Wednesday', 'Thursday', 'Friday', 'Saturday', 'Sunday']\n",
    "plt.xticks(r, days_of_week)\n",
    "\n",
    "plt.legend(bbox_to_anchor=(1.05, 1), loc='upper left')\n",
    "\n",
    "plt.figure(figsize=(15,6))\n",
    "plt.tight_layout()\n",
    "plt.show()"
   ]
  },
  {
   "cell_type": "code",
   "execution_count": 58,
   "id": "557672d6-ec15-4c8b-8a01-405562d1dbf5",
   "metadata": {},
   "outputs": [
    {
     "data": {
      "image/png": "[encoded data removed]",
      "text/plain": [
       "<Figure size 640x480 with 1 Axes>"
      ]
     },
     "metadata": {},
     "output_type": "display_data"
    },
    {
     "data": {
      "text/plain": [
       "<Figure size 1500x600 with 0 Axes>"
      ]
     },
     "metadata": {},
     "output_type": "display_data"
    }
   ],
   "source": [
    "# Fatal accidents\n",
    "\n",
    "\n",
    "plt.bar(x2, all_df['Count of Fatal accidents'], color='r', width=width, edgecolor='black', label='Fatal Accidents')\n",
    "\n",
    "plt.xlabel(\"Day of Week\") \n",
    "plt.ylabel(\"Number of Accidents\") \n",
    "plt.title(\"Number of Fatal accidents per Weekday\") \n",
    "\n",
    "plt.xticks(r, days_of_week)\n",
    "plt.legend(bbox_to_anchor=(1.05, 1), loc='upper left')\n",
    "\n",
    "plt.figure(figsize=(15,6))\n",
    "plt.tight_layout()\n",
    "plt.show()"
   ]
  },
  {
   "cell_type": "markdown",
   "id": "ccad1135-e8b9-4d63-b5d8-b5aca59ce15a",
   "metadata": {},
   "source": [
    "### Is The propotion of accident severity different for accidents involving motorcycles ? ¶"
   ]
  },
  {
   "cell_type": "code",
   "execution_count": 59,
   "id": "239eb56e-43b6-47f4-9fe8-7f972304ef6f",
   "metadata": {},
   "outputs": [
    {
     "data": {
      "text/plain": [
       "['Accident_Index',\n",
       " 'Age_Band_of_Driver',\n",
       " 'Age_of_Vehicle',\n",
       " 'Driver_Home_Area_Type',\n",
       " 'Driver_IMD_Decile',\n",
       " 'Engine_Capacity_.CC.',\n",
       " 'Hit_Object_in_Carriageway',\n",
       " 'Hit_Object_off_Carriageway',\n",
       " 'Journey_Purpose_of_Driver',\n",
       " 'Junction_Location',\n",
       " 'make',\n",
       " 'model',\n",
       " 'Propulsion_Code',\n",
       " 'Sex_of_Driver',\n",
       " 'Skidding_and_Overturning',\n",
       " 'Towing_and_Articulation',\n",
       " 'Vehicle_Leaving_Carriageway',\n",
       " 'Vehicle_Location.Restricted_Lane',\n",
       " 'Vehicle_Manoeuvre',\n",
       " 'Vehicle_Reference',\n",
       " 'Vehicle_Type',\n",
       " 'Was_Vehicle_Left_Hand_Drive',\n",
       " 'X1st_Point_of_Impact',\n",
       " 'Year']"
      ]
     },
     "execution_count": 59,
     "metadata": {},
     "output_type": "execute_result"
    }
   ],
   "source": [
    "#loading the vehicle information dataset\n",
    "df_vehicles = load_dataframe('../data/car_accidents/Vehicle_information.csv')\n",
    "df_vehicles.columns"
   ]
  },
  {
   "cell_type": "code",
   "execution_count": 60,
   "id": "3a4e1cae-4ac8-4bb2-a2f4-094efba100c6",
   "metadata": {},
   "outputs": [
    {
     "data": {
      "text/plain": [
       "['Accident_Index',\n",
       " 'Accident_Severity',\n",
       " 'Date',\n",
       " 'Day_of_Week',\n",
       " 'Latitude',\n",
       " 'Longitude',\n",
       " 'Number_of_Casualties',\n",
       " 'Number_of_Vehicles',\n",
       " 'Time',\n",
       " 'Weather_Conditions',\n",
       " 'Year',\n",
       " 'Slight',\n",
       " 'Fatal',\n",
       " 'Serious']"
      ]
     },
     "execution_count": 60,
     "metadata": {},
     "output_type": "execute_result"
    }
   ],
   "source": [
    "accidents.columns"
   ]
  },
  {
   "cell_type": "code",
   "execution_count": 61,
   "id": "8f7a7214-5b39-450d-b1fd-c2ac20876528",
   "metadata": {},
   "outputs": [
    {
     "data": {
      "text/plain": [
       "2058408"
      ]
     },
     "execution_count": 61,
     "metadata": {},
     "output_type": "execute_result"
    }
   ],
   "source": [
    "#joining the accidents dataframe with vehicle information dataset\n",
    "\n",
    "accidents_vehicles = accidents.join(df_vehicles, accidents[\"Accident_Index\"] == df_vehicles[\"Accident_Index\"], \"inner\")\n",
    "accidents_vehicles.count()"
   ]
  },
  {
   "cell_type": "code",
   "execution_count": 62,
   "id": "984b56fd-8745-4b11-a621-0fcc4b3873d1",
   "metadata": {},
   "outputs": [
    {
     "data": {
      "text/plain": [
       "[Row(Vehicle_Type='Motorcycle - unknown cc'),\n",
       " Row(Vehicle_Type='Motorcycle over 500cc'),\n",
       " Row(Vehicle_Type='Taxi/Private hire car'),\n",
       " Row(Vehicle_Type='Agricultural vehicle'),\n",
       " Row(Vehicle_Type='Car'),\n",
       " Row(Vehicle_Type='Goods over 3.5t. and under 7.5t'),\n",
       " Row(Vehicle_Type='Minibus (8 - 16 passenger seats)'),\n",
       " Row(Vehicle_Type='Electric motorcycle'),\n",
       " Row(Vehicle_Type='Mobility scooter'),\n",
       " Row(Vehicle_Type='Goods vehicle - unknown weight'),\n",
       " Row(Vehicle_Type='Motorcycle 125cc and under'),\n",
       " Row(Vehicle_Type='Other vehicle'),\n",
       " Row(Vehicle_Type='Motorcycle 50cc and under'),\n",
       " Row(Vehicle_Type='Ridden horse'),\n",
       " Row(Vehicle_Type='Motorcycle over 125cc and up to 500cc'),\n",
       " Row(Vehicle_Type='Bus or coach (17 or more pass seats)'),\n",
       " Row(Vehicle_Type='Van / Goods 3.5 tonnes mgw or under'),\n",
       " Row(Vehicle_Type='Pedal cycle'),\n",
       " Row(Vehicle_Type='Data missing or out of range'),\n",
       " Row(Vehicle_Type='Goods 7.5 tonnes mgw and over'),\n",
       " Row(Vehicle_Type='Tram')]"
      ]
     },
     "execution_count": 62,
     "metadata": {},
     "output_type": "execute_result"
    }
   ],
   "source": [
    "accidents_vehicles.select('Vehicle_Type').distinct().collect()"
   ]
  },
  {
   "cell_type": "code",
   "execution_count": 63,
   "id": "4ae2ef99-82b2-4363-a113-b08ee3d718b6",
   "metadata": {},
   "outputs": [
    {
     "name": "stdout",
     "output_type": "stream",
     "text": [
      "+-----------+------------------------------+-------------------------+--------------------------+------------------------+\n",
      "|Day_of_Week|Count of accidents (All Types)|Count of slight accidents|Count of Serious accidents|Count of Fatal accidents|\n",
      "+-----------+------------------------------+-------------------------+--------------------------+------------------------+\n",
      "|  Wednesday|                         26138|                    19163|                      6509|                     466|\n",
      "|    Tuesday|                         25759|                    18960|                      6335|                     464|\n",
      "|     Friday|                         27677|                    20191|                      6981|                     505|\n",
      "|   Thursday|                         26259|                    19315|                      6465|                     479|\n",
      "|   Saturday|                         22238|                    14877|                      6695|                     666|\n",
      "|     Monday|                         23612|                    17347|                      5829|                     436|\n",
      "|     Sunday|                         21427|                    13396|                      7201|                     830|\n",
      "+-----------+------------------------------+-------------------------+--------------------------+------------------------+\n",
      "\n"
     ]
    }
   ],
   "source": [
    "motorcycles = ['Motorcycle - unknown cc', 'Motorcycle over 500cc', 'Electric motorcycle', 'Motorcycle 125cc and under', 'Motorcycle 50cc and under', \n",
    "              'Motorcycle over 125cc and up to 500cc']\n",
    "\n",
    "moto_seve = accidents_vehicles.filter(col('Vehicle_Type').isin(motorcycles))\n",
    "                                      \n",
    "all_moto = moto_seve.groupby('Day_of_Week') \\\n",
    "    .agg(count('Accident_Severity').alias('Count of accidents (All Types)'), \\\n",
    "         sum('Slight').alias('Count of slight accidents'), \\\n",
    "         sum('Serious').alias('Count of Serious accidents'), \\\n",
    "         sum('Fatal').alias('Count of Fatal accidents'))\n",
    "all_moto.show()"
   ]
  },
  {
   "cell_type": "code",
   "execution_count": 64,
   "id": "0d480b80-0ab7-462d-91c2-b9e1b5d8ee66",
   "metadata": {},
   "outputs": [
    {
     "data": {
      "text/plain": [
       "([<matplotlib.patches.Wedge at 0x24850694810>,\n",
       "  <matplotlib.patches.Wedge at 0x248547b88d0>,\n",
       "  <matplotlib.patches.Wedge at 0x248547bbf90>],\n",
       " [Text(-0.6795620341764947, 0.8649829141121256, 'Slight'),\n",
       "  Text(0.6175831599506745, -0.9102697625129267, 'Serious'),\n",
       "  Text(1.0973216893460154, -0.07671447119551367, 'Fatal')],\n",
       " [Text(-0.37067020045990623, 0.4718088622429775, '71.2%'),\n",
       "  Text(0.3368635417912769, -0.4965107795525054, '26.6%'),\n",
       "  Text(0.5985391032796447, -0.04184425701573472, '2.2%')])"
      ]
     },
     "execution_count": 64,
     "metadata": {},
     "output_type": "execute_result"
    },
    {
     "data": {
      "image/png": "[encoded data removed]",
      "text/plain": [
       "<Figure size 640x480 with 1 Axes>"
      ]
     },
     "metadata": {},
     "output_type": "display_data"
    }
   ],
   "source": [
    "#plotting the the general distribution of accident severity\n",
    "slight_sum_m = all_moto.agg(sum('Count of slight accidents')).collect()[0][0]\n",
    "serious_sum_m = all_moto.agg(sum('Count of Serious accidents')).collect()[0][0]\n",
    "fatal_sum_m = all_moto.agg(sum('Count of Fatal accidents')).collect()[0][0]\n",
    "sizes = [slight_sum_m, serious_sum_m, fatal_sum_m]\n",
    "labels = ['Slight', 'Serious', 'Fatal']\n",
    "\n",
    "fig, ax = plt.subplots()\n",
    "plt.title(\"Distribution of accident severity for motorcycle accidents\")\n",
    "ax.pie(sizes, labels=labels, autopct='%1.1f%%')"
   ]
  },
  {
   "cell_type": "code",
   "execution_count": null,
   "id": "8fa4451f-18e7-4b5a-acf4-abb226d31a65",
   "metadata": {},
   "outputs": [],
   "source": []
  }
 ],
 "metadata": {
  "kernelspec": {
   "display_name": "Python 3 (ipykernel)",
   "language": "python",
   "name": "python3"
  },
  "language_info": {
   "codemirror_mode": {
    "name": "ipython",
    "version": 3
   },
   "file_extension": ".py",
   "mimetype": "text/x-python",
   "name": "python",
   "nbconvert_exporter": "python",
   "pygments_lexer": "ipython3",
   "version": "3.11.7"
  }
 },
 "nbformat": 4,
 "nbformat_minor": 5
}
