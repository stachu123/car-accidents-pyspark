{
 "cells": [
  {
   "cell_type": "markdown",
   "id": "91b42d92-10fb-4891-b047-55707c3548c4",
   "metadata": {},
   "source": [
    "Questions to the dataset:\n",
    "1. What's the distribution of Serious , slight and all accidents in relation to the day of the Week.\n",
    "2. Motorcycle accidents\n",
    "3. "
   ]
  },
  {
   "cell_type": "code",
   "execution_count": 33,
   "id": "d0ba9372-85e8-4c88-948d-ddcc608184e1",
   "metadata": {},
   "outputs": [],
   "source": [
    "import pyspark\n",
    "from pyspark import SparkContext\n",
    "from pyspark.sql import SparkSession, Window, Row\n",
    "from pyspark.sql.functions import *\n",
    "from pyspark.sql.types import *\n",
    "import matplotlib.pyplot as plt\n",
    "import pandas as pd"
   ]
  },
  {
   "cell_type": "code",
   "execution_count": 34,
   "id": "deadf996-5618-450e-bcba-b19b402c0078",
   "metadata": {},
   "outputs": [],
   "source": [
    "spark = SparkSession \\\n",
    "    .builder \\\n",
    "    .appName(\"Bundesliga\") \\\n",
    "    .getOrCreate()"
   ]
  },
  {
   "cell_type": "code",
   "execution_count": 41,
   "id": "8fc01d5a-b6a8-4172-b301-9a60105de00a",
   "metadata": {},
   "outputs": [
    {
     "name": "stdout",
     "output_type": "stream",
     "text": [
      "+--------------+--------------+---------------+--------------+---------------+-----------------+-------------------+----------+-----------+-------------------------------------------+--------------------+--------------------+---------+--------------------+--------------------------+-------------------------+---------------------+----------------------+---------+-------------------------+--------------------+------------------+---------------------------------+---------------------------------------+-------------------+-----------------------+------------------+--------------------------+-----------+-----+-------------------+--------------------+----+----------+\n",
      "|Accident_Index|1st_Road_Class|1st_Road_Number|2nd_Road_Class|2nd_Road_Number|Accident_Severity|Carriageway_Hazards|      Date|Day_of_Week|Did_Police_Officer_Attend_Scene_of_Accident|    Junction_Control|     Junction_Detail| Latitude|    Light_Conditions|Local_Authority_(District)|Local_Authority_(Highway)|Location_Easting_OSGR|Location_Northing_OSGR|Longitude|LSOA_of_Accident_Location|Number_of_Casualties|Number_of_Vehicles|Pedestrian_Crossing-Human_Control|Pedestrian_Crossing-Physical_Facilities|       Police_Force|Road_Surface_Conditions|         Road_Type|Special_Conditions_at_Site|Speed_limit| Time|Urban_or_Rural_Area|  Weather_Conditions|Year|InScotland|\n",
      "+--------------+--------------+---------------+--------------+---------------+-----------------+-------------------+----------+-----------+-------------------------------------------+--------------------+--------------------+---------+--------------------+--------------------------+-------------------------+---------------------+----------------------+---------+-------------------------+--------------------+------------------+---------------------------------+---------------------------------------+-------------------+-----------------------+------------------+--------------------------+-----------+-----+-------------------+--------------------+----+----------+\n",
      "| 200501BS00001|             A|           3218|            NA|              0|          Serious|               None|2005-01-04|    Tuesday|                                          1|Data missing or o...|Not at junction o...|51.489096|            Daylight|      Kensington and Ch...|     Kensington and Ch...|               525680|                178240| -0.19117|                E01002849|                   1|                 1|                                0|                                      1|Metropolitan Police|            Wet or damp|Single carriageway|                      None|         30|17:42|              Urban|Raining no high w...|2005|        No|\n",
      "| 200501BS00002|             B|            450|             C|              0|           Slight|               None|2005-01-05|  Wednesday|                                          1| Auto traffic signal|          Crossroads|51.520075|Darkness - lights...|      Kensington and Ch...|     Kensington and Ch...|               524170|                181650|-0.211708|                E01002909|                   1|                 1|                                0|                                      5|Metropolitan Police|                    Dry|  Dual carriageway|                      None|         30|17:36|              Urban|  Fine no high winds|2005|        No|\n",
      "| 200501BS00003|             C|              0|            NA|              0|           Slight|               None|2005-01-06|   Thursday|                                          1|Data missing or o...|Not at junction o...|51.525301|Darkness - lights...|      Kensington and Ch...|     Kensington and Ch...|               524520|                182240|-0.206458|                E01002857|                   1|                 2|                                0|                                      0|Metropolitan Police|                    Dry|Single carriageway|                      None|         30|00:15|              Urban|  Fine no high winds|2005|        No|\n",
      "| 200501BS00004|             A|           3220|            NA|              0|           Slight|               None|2005-01-07|     Friday|                                          1|Data missing or o...|Not at junction o...|51.482442|            Daylight|      Kensington and Ch...|     Kensington and Ch...|               526900|                177530|-0.173862|                E01002840|                   1|                 1|                                0|                                      0|Metropolitan Police|                    Dry|Single carriageway|                      None|         30|10:35|              Urban|  Fine no high winds|2005|        No|\n",
      "| 200501BS00005|  Unclassified|              0|            NA|              0|           Slight|               None|2005-01-10|     Monday|                                          1|Data missing or o...|Not at junction o...|51.495752|Darkness - lighti...|      Kensington and Ch...|     Kensington and Ch...|               528060|                179040|-0.156618|                E01002863|                   1|                 1|                                0|                                      0|Metropolitan Police|            Wet or damp|Single carriageway|                      None|         30|21:13|              Urban|  Fine no high winds|2005|        No|\n",
      "+--------------+--------------+---------------+--------------+---------------+-----------------+-------------------+----------+-----------+-------------------------------------------+--------------------+--------------------+---------+--------------------+--------------------------+-------------------------+---------------------+----------------------+---------+-------------------------+--------------------+------------------+---------------------------------+---------------------------------------+-------------------+-----------------------+------------------+--------------------------+-----------+-----+-------------------+--------------------+----+----------+\n",
      "\n"
     ]
    }
   ],
   "source": [
    "def load_dataframe(filename):\n",
    "    df=spark.read.format('csv').options(header='true').load(filename)\n",
    "    return df\n",
    "\n",
    "df_accidents = load_dataframe('./data/car_accidents/Accident_information.csv')\n",
    "df_accidents.limit(5).show()"
   ]
  },
  {
   "cell_type": "code",
   "execution_count": 55,
   "id": "6a87ff92-7fcf-47bc-a8b4-2370181e7195",
   "metadata": {},
   "outputs": [
    {
     "data": {
      "text/plain": [
       "['Accident_Index',\n",
       " '1st_Road_Class',\n",
       " '1st_Road_Number',\n",
       " '2nd_Road_Class',\n",
       " '2nd_Road_Number',\n",
       " 'Accident_Severity',\n",
       " 'Carriageway_Hazards',\n",
       " 'Date',\n",
       " 'Day_of_Week',\n",
       " 'Did_Police_Officer_Attend_Scene_of_Accident',\n",
       " 'Junction_Control',\n",
       " 'Junction_Detail',\n",
       " 'Latitude',\n",
       " 'Light_Conditions',\n",
       " 'Local_Authority_(District)',\n",
       " 'Local_Authority_(Highway)',\n",
       " 'Location_Easting_OSGR',\n",
       " 'Location_Northing_OSGR',\n",
       " 'Longitude',\n",
       " 'LSOA_of_Accident_Location',\n",
       " 'Number_of_Casualties',\n",
       " 'Number_of_Vehicles',\n",
       " 'Pedestrian_Crossing-Human_Control',\n",
       " 'Pedestrian_Crossing-Physical_Facilities',\n",
       " 'Police_Force',\n",
       " 'Road_Surface_Conditions',\n",
       " 'Road_Type',\n",
       " 'Special_Conditions_at_Site',\n",
       " 'Speed_limit',\n",
       " 'Time',\n",
       " 'Urban_or_Rural_Area',\n",
       " 'Weather_Conditions',\n",
       " 'Year',\n",
       " 'InScotland']"
      ]
     },
     "execution_count": 55,
     "metadata": {},
     "output_type": "execute_result"
    }
   ],
   "source": [
    "df_accidents"
   ]
  },
  {
   "cell_type": "markdown",
   "id": "11d4e596-ab83-471a-87a5-5889b5d8062d",
   "metadata": {},
   "source": [
    "### What's the distribution of Serious, Slight and all accidents in relation to the day of the Week."
   ]
  },
  {
   "cell_type": "markdown",
   "id": "f294276b-fda5-4c11-9b08-fc65a5b95fde",
   "metadata": {},
   "source": []
  },
  {
   "cell_type": "code",
   "execution_count": 64,
   "id": "7de91a68-0c57-4aee-a5e1-cee6dc81936c",
   "metadata": {},
   "outputs": [
    {
     "data": {
      "text/plain": [
       "[Row(Accident_Severity='Slight'),\n",
       " Row(Accident_Severity='Fatal'),\n",
       " Row(Accident_Severity='Serious')]"
      ]
     },
     "execution_count": 64,
     "metadata": {},
     "output_type": "execute_result"
    }
   ],
   "source": [
    "#checking the distinct values of the Accident Severity column\n",
    "df_accidents.select('Accident_Severity').distinct().collect()"
   ]
  },
  {
   "cell_type": "code",
   "execution_count": 63,
   "id": "36995ba2-d3e3-43cf-8d8e-202d9d26bb45",
   "metadata": {},
   "outputs": [
    {
     "data": {
      "text/plain": [
       "0"
      ]
     },
     "execution_count": 63,
     "metadata": {},
     "output_type": "execute_result"
    }
   ],
   "source": [
    "#checking Null values\n",
    "null_count = df_accidents.filter(col('Accident_Severity').isNull()).count()\n",
    "null_count"
   ]
  },
  {
   "cell_type": "code",
   "execution_count": 65,
   "id": "0b6695ca-de08-46ec-bb44-9d892361a660",
   "metadata": {},
   "outputs": [],
   "source": [
    "accidents = df_accidents \\\n",
    "    .withColumn('Slight', when(col('Accident_Severity') == 'Slight', 1).otherwise(0)) \\\n",
    "    .withColumn('Fatal', when(col('Accident_Severity') == 'Fatal', 1).otherwise(0)) \\\n",
    "    .withColumn('Serious', when(col('Accident_Severity') == 'Serious', 1).otherwise(0)) \\\n",
    "\n"
   ]
  },
  {
   "cell_type": "code",
   "execution_count": 68,
   "id": "08f67230-3ea7-4b21-bba7-5fee81c1e438",
   "metadata": {},
   "outputs": [
    {
     "data": {
      "text/plain": [
       "['Accident_Index',\n",
       " '1st_Road_Class',\n",
       " '1st_Road_Number',\n",
       " '2nd_Road_Class',\n",
       " '2nd_Road_Number',\n",
       " 'Accident_Severity',\n",
       " 'Carriageway_Hazards',\n",
       " 'Date',\n",
       " 'Day_of_Week',\n",
       " 'Did_Police_Officer_Attend_Scene_of_Accident',\n",
       " 'Junction_Control',\n",
       " 'Junction_Detail',\n",
       " 'Latitude',\n",
       " 'Light_Conditions',\n",
       " 'Local_Authority_(District)',\n",
       " 'Local_Authority_(Highway)',\n",
       " 'Location_Easting_OSGR',\n",
       " 'Location_Northing_OSGR',\n",
       " 'Longitude',\n",
       " 'LSOA_of_Accident_Location',\n",
       " 'Number_of_Casualties',\n",
       " 'Number_of_Vehicles',\n",
       " 'Pedestrian_Crossing-Human_Control',\n",
       " 'Pedestrian_Crossing-Physical_Facilities',\n",
       " 'Police_Force',\n",
       " 'Road_Surface_Conditions',\n",
       " 'Road_Type',\n",
       " 'Special_Conditions_at_Site',\n",
       " 'Speed_limit',\n",
       " 'Time',\n",
       " 'Urban_or_Rural_Area',\n",
       " 'Weather_Conditions',\n",
       " 'Year',\n",
       " 'InScotland',\n",
       " 'Slight',\n",
       " 'Fatal',\n",
       " 'Serious']"
      ]
     },
     "execution_count": 68,
     "metadata": {},
     "output_type": "execute_result"
    }
   ],
   "source": [
    "accidents.columns"
   ]
  },
  {
   "cell_type": "code",
   "execution_count": 97,
   "id": "fc946731-04aa-4747-9ba3-2b973d192e81",
   "metadata": {},
   "outputs": [],
   "source": [
    "all = accidents.groupby('Day_of_Week') \\\n",
    "    .agg(count('Accident_Severity').alias('Count of accidents (All Types)'), \\\n",
    "         sum('Slight').alias('Count of slight accidents'), \\\n",
    "         sum('Serious').alias('Count of Serious accidents'), \\\n",
    "         sum('Fatal').alias('Count of Fatal accidents'))"
   ]
  },
  {
   "cell_type": "code",
   "execution_count": 74,
   "id": "e053d1d0-95cd-4241-bf77-a468b5916b84",
   "metadata": {},
   "outputs": [
    {
     "name": "stdout",
     "output_type": "stream",
     "text": [
      "+-----------+------------------------------+-------------------------+--------------------------+------------------------+\n",
      "|Day_of_Week|Count of accidents (All Types)|Count of slight accidents|Count of Serious accidents|Count of Fatal accidents|\n",
      "+-----------+------------------------------+-------------------------+--------------------------+------------------------+\n",
      "|  Wednesday|                        308580|                   264532|                     40683|                    3365|\n",
      "|    Tuesday|                        306292|                   262430|                     40503|                    3359|\n",
      "|     Friday|                        335183|                   285272|                     45877|                    4034|\n",
      "|   Thursday|                        308240|                   263357|                     41376|                    3507|\n",
      "|   Saturday|                        273152|                   226648|                     41986|                    4518|\n",
      "|     Monday|                        290482|                   248516|                     38588|                    3378|\n",
      "|     Sunday|                        225327|                   183793|                     37326|                    4208|\n",
      "+-----------+------------------------------+-------------------------+--------------------------+------------------------+\n",
      "\n"
     ]
    }
   ],
   "source": [
    "all.show()"
   ]
  },
  {
   "cell_type": "code",
   "execution_count": 107,
   "id": "a8918b69-4126-4acf-9ab9-0e1fc3d5d17b",
   "metadata": {},
   "outputs": [
    {
     "data": {
      "text/html": [
       "<div>\n",
       "<style scoped>\n",
       "    .dataframe tbody tr th:only-of-type {\n",
       "        vertical-align: middle;\n",
       "    }\n",
       "\n",
       "    .dataframe tbody tr th {\n",
       "        vertical-align: top;\n",
       "    }\n",
       "\n",
       "    .dataframe thead th {\n",
       "        text-align: right;\n",
       "    }\n",
       "</style>\n",
       "<table border=\"1\" class=\"dataframe\">\n",
       "  <thead>\n",
       "    <tr style=\"text-align: right;\">\n",
       "      <th></th>\n",
       "      <th>Day_of_Week</th>\n",
       "      <th>Count of accidents (All Types)</th>\n",
       "      <th>Count of slight accidents</th>\n",
       "      <th>Count of Serious accidents</th>\n",
       "      <th>Count of Fatal accidents</th>\n",
       "      <th>Day_of_Week_Num</th>\n",
       "    </tr>\n",
       "  </thead>\n",
       "  <tbody>\n",
       "    <tr>\n",
       "      <th>5</th>\n",
       "      <td>Monday</td>\n",
       "      <td>290482</td>\n",
       "      <td>248516</td>\n",
       "      <td>38588</td>\n",
       "      <td>3378</td>\n",
       "      <td>0</td>\n",
       "    </tr>\n",
       "    <tr>\n",
       "      <th>1</th>\n",
       "      <td>Tuesday</td>\n",
       "      <td>306292</td>\n",
       "      <td>262430</td>\n",
       "      <td>40503</td>\n",
       "      <td>3359</td>\n",
       "      <td>1</td>\n",
       "    </tr>\n",
       "    <tr>\n",
       "      <th>0</th>\n",
       "      <td>Wednesday</td>\n",
       "      <td>308580</td>\n",
       "      <td>264532</td>\n",
       "      <td>40683</td>\n",
       "      <td>3365</td>\n",
       "      <td>2</td>\n",
       "    </tr>\n",
       "    <tr>\n",
       "      <th>3</th>\n",
       "      <td>Thursday</td>\n",
       "      <td>308240</td>\n",
       "      <td>263357</td>\n",
       "      <td>41376</td>\n",
       "      <td>3507</td>\n",
       "      <td>3</td>\n",
       "    </tr>\n",
       "    <tr>\n",
       "      <th>2</th>\n",
       "      <td>Friday</td>\n",
       "      <td>335183</td>\n",
       "      <td>285272</td>\n",
       "      <td>45877</td>\n",
       "      <td>4034</td>\n",
       "      <td>4</td>\n",
       "    </tr>\n",
       "    <tr>\n",
       "      <th>4</th>\n",
       "      <td>Saturday</td>\n",
       "      <td>273152</td>\n",
       "      <td>226648</td>\n",
       "      <td>41986</td>\n",
       "      <td>4518</td>\n",
       "      <td>5</td>\n",
       "    </tr>\n",
       "    <tr>\n",
       "      <th>6</th>\n",
       "      <td>Sunday</td>\n",
       "      <td>225327</td>\n",
       "      <td>183793</td>\n",
       "      <td>37326</td>\n",
       "      <td>4208</td>\n",
       "      <td>6</td>\n",
       "    </tr>\n",
       "  </tbody>\n",
       "</table>\n",
       "</div>"
      ],
      "text/plain": [
       "  Day_of_Week  Count of accidents (All Types)  Count of slight accidents  \\\n",
       "5      Monday                          290482                     248516   \n",
       "1     Tuesday                          306292                     262430   \n",
       "0   Wednesday                          308580                     264532   \n",
       "3    Thursday                          308240                     263357   \n",
       "2      Friday                          335183                     285272   \n",
       "4    Saturday                          273152                     226648   \n",
       "6      Sunday                          225327                     183793   \n",
       "\n",
       "   Count of Serious accidents  Count of Fatal accidents  Day_of_Week_Num  \n",
       "5                       38588                      3378                0  \n",
       "1                       40503                      3359                1  \n",
       "0                       40683                      3365                2  \n",
       "3                       41376                      3507                3  \n",
       "2                       45877                      4034                4  \n",
       "4                       41986                      4518                5  \n",
       "6                       37326                      4208                6  "
      ]
     },
     "execution_count": 107,
     "metadata": {},
     "output_type": "execute_result"
    }
   ],
   "source": [
    "all_df = all.toPandas()\n",
    "\n",
    "weekday_mapping = {\n",
    "    'Monday': 0,\n",
    "    'Tuesday': 1,\n",
    "    'Wednesday': 2,\n",
    "    'Thursday': 3,\n",
    "    'Friday': 4,\n",
    "    'Saturday': 5,\n",
    "    'Sunday': 6\n",
    "}\n",
    "\n",
    "all_df['Day_of_Week_Num'] = all_df['Day_of_Week'].map(weekday_mapping)\n",
    "df_sorted = all_df.sort_values(by='Day_of_Week_Num')\n",
    "df_sorted"
   ]
  },
  {
   "cell_type": "code",
   "execution_count": 133,
   "id": "d129cada-6c33-466c-b29d-07690a7cedac",
   "metadata": {},
   "outputs": [
    {
     "data": {
      "image/png": "[encoded data removed]",
      "text/plain": [
       "<Figure size 640x480 with 1 Axes>"
      ]
     },
     "metadata": {},
     "output_type": "display_data"
    },
    {
     "data": {
      "text/plain": [
       "<Figure size 1500x600 with 0 Axes>"
      ]
     },
     "metadata": {},
     "output_type": "display_data"
    }
   ],
   "source": [
    "import numpy as np\n",
    "import matplotlib.pyplot as plt\n",
    "\n",
    "# Sample data\n",
    "r = np.arange(7)\n",
    "width = 0.2\n",
    "\n",
    "# Adjusting x-coordinates for the bars\n",
    "x1 = r - width\n",
    "x2 = r\n",
    "x3 = r + width\n",
    "x4 = r + 2*width\n",
    "\n",
    "# Plotting the bars\n",
    "plt.bar(x1, all_df['Count of accidents (All Types)'], color='b', width=width, edgecolor='black', label='All Types')\n",
    "plt.bar(x2, all_df['Count of slight accidents'], color='g', width=width, edgecolor='black', label='Slight Accidents')\n",
    "plt.bar(x3, all_df['Count of Serious accidents'], color='r', width=width, edgecolor='black', label='Serious Accidents')\n",
    "plt.bar(x4, all_df['Count of Fatal accidents'], color='black', width=width, edgecolor='black', label='Fatal Accidents')\n",
    "\n",
    "# Adding labels and title\n",
    "plt.xlabel(\"Day of Week\") \n",
    "plt.ylabel(\"Number of Accidents\") \n",
    "plt.title(\"Number of Accidents per Weekday (All types)\") \n",
    "\n",
    "days_of_week = ['Monday', 'Tuesday', 'Wednesday', 'Thursday', 'Friday', 'Saturday', 'Sunday']\n",
    "plt.xticks(r, days_of_week)\n",
    "\n",
    "plt.legend(bbox_to_anchor=(1.05, 1), loc='upper left')\n",
    "\n",
    "plt.figure(figsize=(15,6))\n",
    "plt.tight_layout()\n",
    "plt.show()"
   ]
  },
  {
   "cell_type": "code",
   "execution_count": null,
   "id": "557672d6-ec15-4c8b-8a01-405562d1dbf5",
   "metadata": {},
   "outputs": [],
   "source": []
  }
 ],
 "metadata": {
  "kernelspec": {
   "display_name": "Python 3 (ipykernel)",
   "language": "python",
   "name": "python3"
  },
  "language_info": {
   "codemirror_mode": {
    "name": "ipython",
    "version": 3
   },
   "file_extension": ".py",
   "mimetype": "text/x-python",
   "name": "python",
   "nbconvert_exporter": "python",
   "pygments_lexer": "ipython3",
   "version": "3.11.7"
  }
 },
 "nbformat": 4,
 "nbformat_minor": 5
}
